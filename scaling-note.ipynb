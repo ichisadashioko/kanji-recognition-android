{
	"cells": [
		{
			"cell_type": "code",
			"execution_count": 1,
			"metadata": {},
			"outputs": [],
			"source": [
				"import numpy as np\n",
				"import cv2\n",
				"import matplotlib.pyplot as plt"
			]
		},
		{
			"cell_type": "code",
			"execution_count": 2,
			"metadata": {},
			"outputs": [
				{
					"data": {
						"text/plain": [
							"[[(3, 2), (1, 4)],\n",
							" [(2, 3), (5, 3)],\n",
							" [(1.5, 4.5), (4.5, 4.5)],\n",
							" [(4, 2), (3, 6)],\n",
							" [(1, 6), (6, 6)]]"
						]
					},
					"execution_count": 2,
					"metadata": {},
					"output_type": "execute_result"
				}
			],
			"source": [
				"strokes = [\n",
				"    [(3, 2), (1, 4)],\n",
				"    [(2, 3), (5, 3)],\n",
				"    [(1.5, 4.5), (4.5, 4.5)],\n",
				"    [(4, 2), (3, 6)],\n",
				"    [(1, 6), (6, 6)]\n",
				"]\n",
				"\n",
				"strokes"
			]
		},
		{
			"cell_type": "code",
			"execution_count": 13,
			"metadata": {},
			"outputs": [
				{
					"data": {
						"text/plain": [
							"(512, 512)"
						]
					},
					"execution_count": 13,
					"metadata": {},
					"output_type": "execute_result"
				}
			],
			"source": [
				"img = np.zeros((512, 512), np.uint8)\n",
				"img.shape"
			]
		},
		{
			"cell_type": "code",
			"execution_count": 4,
			"metadata": {},
			"outputs": [
				{
					"data": {
						"text/plain": [
							"64.0"
						]
					},
					"execution_count": 4,
					"metadata": {},
					"output_type": "execute_result"
				}
			],
			"source": [
				"512 / 8"
			]
		},
		{
			"cell_type": "code",
			"execution_count": 5,
			"metadata": {},
			"outputs": [
				{
					"data": {
						"text/plain": [
							"(5, 2, 2)"
						]
					},
					"execution_count": 5,
					"metadata": {},
					"output_type": "execute_result"
				}
			],
			"source": [
				"scaled_strokes = np.array(strokes, dtype=np.uint8)\n",
				"scaled_strokes.shape"
			]
		},
		{
			"cell_type": "code",
			"execution_count": 6,
			"metadata": {},
			"outputs": [],
			"source": [
				"scaled_strokes = scaled_strokes * 64"
			]
		},
		{
			"cell_type": "code",
			"execution_count": 7,
			"metadata": {},
			"outputs": [
				{
					"data": {
						"text/plain": [
							"(5, 2, 2)"
						]
					},
					"execution_count": 7,
					"metadata": {},
					"output_type": "execute_result"
				}
			],
			"source": [
				"scaled_strokes.shape"
			]
		},
		{
			"cell_type": "code",
			"execution_count": 8,
			"metadata": {},
			"outputs": [
				{
					"data": {
						"text/plain": [
							"dtype('uint8')"
						]
					},
					"execution_count": 8,
					"metadata": {},
					"output_type": "execute_result"
				}
			],
			"source": [
				"scaled_strokes.dtype"
			]
		},
		{
			"cell_type": "code",
			"execution_count": 9,
			"metadata": {},
			"outputs": [
				{
					"data": {
						"text/plain": [
							"array([[[192, 128],\n",
							"        [ 64,   0]],\n",
							"\n",
							"       [[128, 192],\n",
							"        [ 64, 192]],\n",
							"\n",
							"       [[ 64,   0],\n",
							"        [  0,   0]],\n",
							"\n",
							"       [[  0, 128],\n",
							"        [192, 128]],\n",
							"\n",
							"       [[ 64, 128],\n",
							"        [128, 128]]], dtype=uint8)"
						]
					},
					"execution_count": 9,
					"metadata": {},
					"output_type": "execute_result"
				}
			],
			"source": [
				"scaled_strokes"
			]
		},
		{
			"cell_type": "code",
			"execution_count": 14,
			"metadata": {},
			"outputs": [],
			"source": [
				"for pair_points in strokes:\n",
				"    p1 = pair_points[0]\n",
				"    p2 = pair_points[1]\n",
				"    # print(p1, p2)\n",
				"    x1 = int(p1[0] * 64)\n",
				"    y1 = int(p1[1] * 64)\n",
				"    x2 = int(p2[0] * 64)\n",
				"    y2 = int(p2[1] * 64)\n",
				"    cv2.line(img, (x1, y1), (x2, y2), (255,), 10)"
			]
		},
		{
			"cell_type": "code",
			"execution_count": 15,
			"metadata": {},
			"outputs": [
				{
					"data": {
						"text/plain": [
							"<matplotlib.image.AxesImage at 0x10c09c82d48>"
						]
					},
					"execution_count": 15,
					"metadata": {},
					"output_type": "execute_result"
				},
				{
					"data": {
						"image/png": "[encoded data removed]",
						"text/plain": [
							"<Figure size 432x288 with 1 Axes>"
						]
					},
					"metadata": {
						"needs_background": "light"
					},
					"output_type": "display_data"
				}
			],
			"source": [
				"plt.imshow(img)"
			]
		},
		{
			"cell_type": "code",
			"execution_count": 19,
			"metadata": {},
			"outputs": [],
			"source": [
				"min_x = 9999\n",
				"max_x = 0\n",
				"min_y = 9999\n",
				"max_y = 0"
			]
		},
		{
			"cell_type": "code",
			"execution_count": 18,
			"metadata": {},
			"outputs": [],
			"source": [
				"RenderedImageWidth = 64\n",
				"RenderedImageHeight = 64\n",
				"RenderedImagePaddingRatio = 0.125\n",
				"RenderedStrokeWidthRatio = 0.0625"
			]
		},
		{
			"cell_type": "code",
			"execution_count": 24,
			"metadata": {},
			"outputs": [
				{
					"data": {
						"text/plain": [
							"(8.0, 8.0)"
						]
					},
					"execution_count": 24,
					"metadata": {},
					"output_type": "execute_result"
				}
			],
			"source": [
				"offset_left = RenderedImageWidth * RenderedImagePaddingRatio\n",
				"offset_top = RenderedImageHeight * RenderedImagePaddingRatio\n",
				"offset_left, offset_top"
			]
		},
		{
			"cell_type": "code",
			"execution_count": 25,
			"metadata": {},
			"outputs": [
				{
					"data": {
						"text/plain": [
							"(48.0, 48.0)"
						]
					},
					"execution_count": 25,
					"metadata": {},
					"output_type": "execute_result"
				}
			],
			"source": [
				"render_width = RenderedImageWidth - (2 * offset_left)\n",
				"render_height = RenderedImageHeight - (2 * offset_top)\n",
				"render_width, render_height"
			]
		},
		{
			"cell_type": "code",
			"execution_count": 20,
			"metadata": {},
			"outputs": [],
			"source": [
				"for stroke in strokes:\n",
				"    for point in stroke:\n",
				"        x = point[0]\n",
				"        y = point[1]\n",
				"        min_x = min(min_x, x)\n",
				"        max_x = max(max_x, x)\n",
				"        min_y = min(min_y, y)\n",
				"        max_y = max(max_y, y)"
			]
		},
		{
			"cell_type": "code",
			"execution_count": 21,
			"metadata": {},
			"outputs": [
				{
					"data": {
						"text/plain": [
							"(1, 6)"
						]
					},
					"execution_count": 21,
					"metadata": {},
					"output_type": "execute_result"
				}
			],
			"source": [
				"min_x, max_x"
			]
		},
		{
			"cell_type": "code",
			"execution_count": 22,
			"metadata": {},
			"outputs": [
				{
					"data": {
						"text/plain": [
							"(2, 6)"
						]
					},
					"execution_count": 22,
					"metadata": {},
					"output_type": "execute_result"
				}
			],
			"source": [
				"min_y, max_y"
			]
		},
		{
			"cell_type": "code",
			"execution_count": 23,
			"metadata": {},
			"outputs": [
				{
					"data": {
						"text/plain": [
							"(5, 4)"
						]
					},
					"execution_count": 23,
					"metadata": {},
					"output_type": "execute_result"
				}
			],
			"source": [
				"char_width = max_x - min_x\n",
				"char_height = max_y - min_y\n",
				"char_width, char_height"
			]
		},
		{
			"cell_type": "code",
			"execution_count": 26,
			"metadata": {},
			"outputs": [
				{
					"data": {
						"text/plain": [
							"(9.6, 12.0)"
						]
					},
					"execution_count": 26,
					"metadata": {},
					"output_type": "execute_result"
				}
			],
			"source": [
				"scale_ratio_x = render_width / char_width\n",
				"scale_ratio_y = render_height / char_height\n",
				"scale_ratio_x, scale_ratio_y"
			]
		},
		{
			"cell_type": "code",
			"execution_count": 27,
			"metadata": {},
			"outputs": [
				{
					"data": {
						"text/plain": [
							"9.6"
						]
					},
					"execution_count": 27,
					"metadata": {},
					"output_type": "execute_result"
				}
			],
			"source": [
				"scale_ratio = min(scale_ratio_x, scale_ratio_y)\n",
				"scale_ratio"
			]
		},
		{
			"cell_type": "code",
			"execution_count": 28,
			"metadata": {},
			"outputs": [
				{
					"data": {
						"text/plain": [
							"(8.0, 12.8)"
						]
					},
					"execution_count": 28,
					"metadata": {},
					"output_type": "execute_result"
				}
			],
			"source": [
				"centering_offset_x = offset_left + ((render_width - (char_width * scale_ratio)) / 2)\n",
				"centering_offset_y = offset_top + ((render_height - (char_height * scale_ratio)) / 2)\n",
				"centering_offset_x, centering_offset_y"
			]
		},
		{
			"cell_type": "code",
			"execution_count": 31,
			"metadata": {},
			"outputs": [],
			"source": [
				"scaled_strokes = []\n",
				"\n",
				"for stroke in strokes:\n",
				"    scaled_points = []\n",
				"    scaled_strokes.append(scaled_points)\n",
				"    for point in stroke:\n",
				"        x = point[0]\n",
				"        y = point[1]\n",
				"        scaled_x = centering_offset_x + ((x - min_x) * scale_ratio)\n",
				"        scaled_y = centering_offset_y + ((y - min_y) * scale_ratio)\n",
				"        \n",
				"        scaled_points.append((scaled_x, scaled_y))"
			]
		},
		{
			"cell_type": "code",
			"execution_count": 32,
			"metadata": {},
			"outputs": [
				{
					"data": {
						"text/plain": [
							"[[(27.2, 12.8), (8.0, 32.0)],\n",
							" [(17.6, 22.4), (46.4, 22.4)],\n",
							" [(12.8, 36.8), (41.6, 36.8)],\n",
							" [(36.8, 12.8), (27.2, 51.2)],\n",
							" [(8.0, 51.2), (56.0, 51.2)]]"
						]
					},
					"execution_count": 32,
					"metadata": {},
					"output_type": "execute_result"
				}
			],
			"source": [
				"scaled_strokes"
			]
		},
		{
			"cell_type": "code",
			"execution_count": 34,
			"metadata": {},
			"outputs": [
				{
					"data": {
						"text/plain": [
							"<matplotlib.image.AxesImage at 0x10c1706adc8>"
						]
					},
					"execution_count": 34,
					"metadata": {},
					"output_type": "execute_result"
				},
				{
					"data": {
						"image/png": "[encoded data removed]",
						"text/plain": [
							"<Figure size 432x288 with 1 Axes>"
						]
					},
					"metadata": {
						"needs_background": "light"
					},
					"output_type": "display_data"
				}
			],
			"source": [
				"render_img = np.zeros((RenderedImageHeight, RenderedImageWidth), dtype=np.uint8)\n",
				"plt.imshow(render_img)"
			]
		},
		{
			"cell_type": "code",
			"execution_count": 33,
			"metadata": {},
			"outputs": [
				{
					"data": {
						"text/plain": [
							"2"
						]
					},
					"execution_count": 33,
					"metadata": {},
					"output_type": "execute_result"
				}
			],
			"source": [
				"round(1.5)"
			]
		},
		{
			"cell_type": "code",
			"execution_count": 35,
			"metadata": {},
			"outputs": [
				{
					"data": {
						"text/plain": [
							"4"
						]
					},
					"execution_count": 35,
					"metadata": {},
					"output_type": "execute_result"
				}
			],
			"source": [
				"stroke_width = round(RenderedImageWidth * RenderedStrokeWidthRatio)\n",
				"stroke_width"
			]
		},
		{
			"cell_type": "code",
			"execution_count": 36,
			"metadata": {},
			"outputs": [],
			"source": [
				"for stroke in scaled_strokes:\n",
				"    p1 = stroke[0]\n",
				"    p2 = stroke[1]\n",
				"    x1 = round(p1[0])\n",
				"    y1 = round(p1[1])\n",
				"    x2 = round(p2[0])\n",
				"    y2 = round(p2[1])\n",
				"    cv2.line(render_img, (x1, y1), (x2, y2), (255,), stroke_width)"
			]
		},
		{
			"cell_type": "code",
			"execution_count": 37,
			"metadata": {},
			"outputs": [
				{
					"data": {
						"text/plain": [
							"<matplotlib.image.AxesImage at 0x10c15b5ec88>"
						]
					},
					"execution_count": 37,
					"metadata": {},
					"output_type": "execute_result"
				},
				{
					"data": {
						"image/png": "[encoded data removed]",
						"text/plain": [
							"<Figure size 432x288 with 1 Axes>"
						]
					},
					"metadata": {
						"needs_background": "light"
					},
					"output_type": "display_data"
				}
			],
			"source": [
				"plt.imshow(render_img)"
			]
		}
	],
	"metadata": {
		"kernelspec": {
			"display_name": "Python 3",
			"language": "python",
			"name": "python3"
		},
		"language_info": {
			"codemirror_mode": {
				"name": "ipython",
				"version": 3
			},
			"file_extension": ".py",
			"mimetype": "text/x-python",
			"name": "python",
			"nbconvert_exporter": "python",
			"pygments_lexer": "ipython3"
		}
	},
	"nbformat": 4,
	"nbformat_minor": 4
}
